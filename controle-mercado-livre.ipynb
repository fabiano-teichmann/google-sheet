{
 "cells": [
  {
   "cell_type": "code",
   "execution_count": 2,
   "metadata": {
    "collapsed": true
   },
   "outputs": [],
   "source": [
    "import gspread \n",
    "from oauth2client.service_account import ServiceAccountCredentials\n",
    "import pprint\n",
    "scope = ['https://www.googleapis.com/auth/drive']\n",
    "creds = ServiceAccountCredentials.from_json_keyfile_name('fluxo-de-caixa-dd17434e5a66.json', scope)\n",
    "client = gspread.authorize(creds)\n",
    "sheet = client.open('controle-mercado-livre').sheet1"
   ]
  },
  {
   "cell_type": "code",
   "execution_count": 2,
   "metadata": {},
   "outputs": [
    {
     "name": "stdout",
     "output_type": "stream",
     "text": [
      "[{'Anunciado': 'sim',\n",
      "  'Produto': 'Pomada Decreína Intense',\n",
      "  'Tarifa mp': 4.12,\n",
      "  'Taxa lucro sem anuncio ': '',\n",
      "  'Valor de custo': '21,00',\n",
      "  'Valor de venda': '38,00',\n",
      "  'data anuncio': '30/03/2017',\n",
      "  'data expiração': '28/05/2017'},\n",
      " {'Anunciado': 'sim',\n",
      "  'Produto': 'Creme Decreína Esfoliante',\n",
      "  'Tarifa mp': '',\n",
      "  'Taxa lucro sem anuncio ': 'R$ 15,65',\n",
      "  'Valor de custo': '27,70',\n",
      "  'Valor de venda': '45,00',\n",
      "  'data anuncio': '31/03/2017',\n",
      "  'data expiração': '29/05/2017'},\n",
      " {'Anunciado': 'sim',\n",
      "  'Produto': 'Spray  Anti-Micótico Decreína\\n',\n",
      "  'Tarifa mp': '',\n",
      "  'Taxa lucro sem anuncio ': 'R$ 22,25',\n",
      "  'Valor de custo': '30,00',\n",
      "  'Valor de venda': '55,00',\n",
      "  'data anuncio': '31/03',\n",
      "  'data expiração': '29/05/2017'},\n",
      " {'Anunciado': 'sim',\n",
      "  'Produto': 'Creme Relaxante Decreína',\n",
      "  'Tarifa mp': '',\n",
      "  'Taxa lucro sem anuncio ': 'R$ 15,05',\n",
      "  'Valor de custo': '27,70',\n",
      "  'Valor de venda': '45,00',\n",
      "  'data anuncio': '31/03/2017',\n",
      "  'data expiração': '29/05/2017'},\n",
      " {'Anunciado': 'sim',\n",
      "  'Produto': 'Óleo de massagem Decreína',\n",
      "  'Tarifa mp': '',\n",
      "  'Taxa lucro sem anuncio ': 'R$ 12,20',\n",
      "  'Valor de custo': '23,90',\n",
      "  'Valor de venda': '38,00',\n",
      "  'data anuncio': '31/03/2017',\n",
      "  'data expiração': '29/05/2017'},\n",
      " {'Anunciado': 'sim',\n",
      "  'Produto': 'CREME QUERATOLÍTICO Decreína',\n",
      "  'Tarifa mp': '',\n",
      "  'Taxa lucro sem anuncio ': 'R$ 12,20',\n",
      "  'Valor de custo': '23,90',\n",
      "  'Valor de venda': '40,00',\n",
      "  'data anuncio': '',\n",
      "  'data expiração': ''},\n",
      " {'Anunciado': 'não',\n",
      "  'Produto': 'Emoliente  Decreína',\n",
      "  'Tarifa mp': '',\n",
      "  'Taxa lucro sem anuncio ': '- ',\n",
      "  'Valor de custo': '22,40',\n",
      "  'Valor de venda': '22,40',\n",
      "  'data anuncio': '',\n",
      "  'data expiração': ''},\n",
      " {'Anunciado': 'sim',\n",
      "  'Produto': 'Fitocreme Decreína',\n",
      "  'Tarifa mp': '',\n",
      "  'Taxa lucro sem anuncio ': 'R$ 12,20',\n",
      "  'Valor de custo': '23,90',\n",
      "  'Valor de venda': '38,00',\n",
      "  'data anuncio': '',\n",
      "  'data expiração': ''},\n",
      " {'Anunciado': 'não',\n",
      "  'Produto': 'Decreína Fresh Feet(odorizante',\n",
      "  'Tarifa mp': '',\n",
      "  'Taxa lucro sem anuncio ': 'R$ 12,20',\n",
      "  'Valor de custo': '23,90',\n",
      "  'Valor de venda': '38,00',\n",
      "  'data anuncio': '',\n",
      "  'data expiração': ''},\n",
      " {'Anunciado': 'sim',\n",
      "  'Produto': 'Creme Hidratante Decreína',\n",
      "  'Tarifa mp': '',\n",
      "  'Taxa lucro sem anuncio ': 'R$ 15,05',\n",
      "  'Valor de custo': '27,70',\n",
      "  'Valor de venda': '45,00',\n",
      "  'data anuncio': '',\n",
      "  'data expiração': ''},\n",
      " {'Anunciado': 'nao',\n",
      "  'Produto': 'Higenize concentrado Decreína',\n",
      "  'Tarifa mp': '',\n",
      "  'Taxa lucro sem anuncio ': '',\n",
      "  'Valor de custo': '22,40',\n",
      "  'Valor de venda': '22,40',\n",
      "  'data anuncio': '',\n",
      "  'data expiração': ''}]\n"
     ]
    }
   ],
   "source": [
    "class ControleAnuncio:\n",
    "    def __init__(self):\n",
    "        scope = ['https://www.googleapis.com/auth/drive']\n",
    "        creds = ServiceAccountCredentials.from_json_keyfile_name('fluxo-de-caixa-dd17434e5a66.json', scope)\n",
    "        client = gspread.authorize(creds)\n",
    "        sheet = client.open('controle-mercado-livre').sheet1\n",
    "        self.sheet = sheet\n",
    "        return self.sheet\n",
    "    def produto(self):\n",
    "        col = self.sheet.col_values(1)\n",
    "        produto = {}\n",
    "        row = 0\n",
    "        for el in col[2:]:\n",
    "            if len(el)> 0:\n",
    "                produto.insert(row, el)\n",
    "                row +=0\n",
    "            else:\n",
    "                pass\n",
    "        self.produto = produto\n",
    "        return self.produto \n",
    "    \n",
    "    def data_anuncio(self):\n",
    "        col = self.sheet.col_values(2)\n",
    "        data_anuncio = {}\n",
    "        row = 0\n",
    "        for el in col[2:]:\n",
    "            if len(el) > 0:\n",
    "                data_anuncio.insert(row, el)\n",
    "                row += 0\n",
    "            else:\n",
    "                pass\n",
    "        self.data_anuncio = data_anuncio\n",
    "        return self.data_anuncio\n",
    "    \n",
    "        \n",
    "                \n",
    "            \n",
    "        \n",
    "\n",
    "\n",
    "    "
   ]
  },
  {
   "cell_type": "code",
   "execution_count": 8,
   "metadata": {},
   "outputs": [],
   "source": [
    "\n",
    "a = produto(sheet)"
   ]
  },
  {
   "cell_type": "code",
   "execution_count": 7,
   "metadata": {
    "collapsed": true
   },
   "outputs": [],
   "source": [
    "def produto(sheet):\n",
    "        data = sheet.col_values(1)\n",
    "        \n",
    "        produto = []\n",
    "        row = 0\n",
    "        for el in data[2:]:\n",
    "            if len(el)> 0:\n",
    "                produto.insert(row, el)\n",
    "                row += 0\n",
    "                \n",
    "            else:\n",
    "                pass\n",
    "        \n",
    "        return produto "
   ]
  },
  {
   "cell_type": "code",
   "execution_count": 4,
   "metadata": {
    "collapsed": true
   },
   "outputs": [],
   "source": [
    "df = pd.DataFrame(fluxo)"
   ]
  },
  {
   "cell_type": "code",
   "execution_count": 9,
   "metadata": {},
   "outputs": [
    {
     "name": "stdout",
     "output_type": "stream",
     "text": [
      "{'Produto': 'Higenize concentrado Decreína'}\n"
     ]
    }
   ],
   "source": [
    "print(a)"
   ]
  },
  {
   "cell_type": "code",
   "execution_count": 9,
   "metadata": {
    "collapsed": true
   },
   "outputs": [],
   "source": [
    "import pandas as pd"
   ]
  },
  {
   "cell_type": "code",
   "execution_count": 10,
   "metadata": {
    "collapsed": true
   },
   "outputs": [],
   "source": [
    "from pandas import Series"
   ]
  },
  {
   "cell_type": "code",
   "execution_count": 11,
   "metadata": {
    "collapsed": true
   },
   "outputs": [],
   "source": [
    "Obj = Series(fluxo)"
   ]
  },
  {
   "cell_type": "code",
   "execution_count": 26,
   "metadata": {
    "collapsed": true
   },
   "outputs": [],
   "source": [
    "from pandas import DataFrame"
   ]
  },
  {
   "cell_type": "code",
   "execution_count": 44,
   "metadata": {},
   "outputs": [
    {
     "name": "stdout",
     "output_type": "stream",
     "text": [
      "1\n",
      "2\n",
      "3\n",
      "4\n",
      "5\n",
      "6\n",
      "7\n",
      "8\n",
      "9\n",
      "10\n",
      "11\n",
      "dict_keys(['Produto', 'data anuncio', 'data expiração', 'Valor de custo', 'Valor de venda', 'Taxa lucro sem anuncio ', 'Tarifa mp', 'Anunciado'])\n"
     ]
    }
   ],
   "source": [
    "a = len(fluxo)\n",
    "i = 0\n",
    "dicio = {}\n",
    "while i < a:\n",
    "    (fluxo[i])\n",
    "    dicio\n",
    "    i +=1\n",
    "    print(i)\n",
    "data = fluxo[1].keys()\n",
    "col = fluxo[1].values()\n",
    "print(data)"
   ]
  },
  {
   "cell_type": "code",
   "execution_count": 45,
   "metadata": {},
   "outputs": [
    {
     "ename": "ValueError",
     "evalue": "DataFrame constructor not properly called!",
     "output_type": "error",
     "traceback": [
      "\u001b[0;31m---------------------------------------------------------------------------\u001b[0m",
      "\u001b[0;31mValueError\u001b[0m                                Traceback (most recent call last)",
      "\u001b[0;32m<ipython-input-45-da85d8994603>\u001b[0m in \u001b[0;36m<module>\u001b[0;34m()\u001b[0m\n\u001b[1;32m      1\u001b[0m \u001b[0mdata\u001b[0m \u001b[0;34m=\u001b[0m \u001b[0mfluxo\u001b[0m\u001b[0;34m[\u001b[0m\u001b[0;36m1\u001b[0m\u001b[0;34m]\u001b[0m\u001b[0;34m.\u001b[0m\u001b[0mkeys\u001b[0m\u001b[0;34m(\u001b[0m\u001b[0;34m)\u001b[0m\u001b[0;34m\u001b[0m\u001b[0m\n\u001b[1;32m      2\u001b[0m \u001b[0mcol\u001b[0m \u001b[0;34m=\u001b[0m \u001b[0mfluxo\u001b[0m\u001b[0;34m[\u001b[0m\u001b[0;36m1\u001b[0m\u001b[0;34m]\u001b[0m\u001b[0;34m.\u001b[0m\u001b[0mvalues\u001b[0m\u001b[0;34m(\u001b[0m\u001b[0;34m)\u001b[0m\u001b[0;34m\u001b[0m\u001b[0m\n\u001b[0;32m----> 3\u001b[0;31m \u001b[0mdf\u001b[0m \u001b[0;34m=\u001b[0m \u001b[0mDataFrame\u001b[0m\u001b[0;34m(\u001b[0m\u001b[0mdata\u001b[0m\u001b[0;34m,\u001b[0m \u001b[0mcol\u001b[0m\u001b[0;34m)\u001b[0m\u001b[0;34m\u001b[0m\u001b[0m\n\u001b[0m",
      "\u001b[0;32m~/anaconda3/envs/conda_env/lib/python3.6/site-packages/pandas/core/frame.py\u001b[0m in \u001b[0;36m__init__\u001b[0;34m(self, data, index, columns, dtype, copy)\u001b[0m\n\u001b[1;32m    352\u001b[0m                                          copy=False)\n\u001b[1;32m    353\u001b[0m             \u001b[0;32melse\u001b[0m\u001b[0;34m:\u001b[0m\u001b[0;34m\u001b[0m\u001b[0m\n\u001b[0;32m--> 354\u001b[0;31m                 \u001b[0;32mraise\u001b[0m \u001b[0mValueError\u001b[0m\u001b[0;34m(\u001b[0m\u001b[0;34m'DataFrame constructor not properly called!'\u001b[0m\u001b[0;34m)\u001b[0m\u001b[0;34m\u001b[0m\u001b[0m\n\u001b[0m\u001b[1;32m    355\u001b[0m \u001b[0;34m\u001b[0m\u001b[0m\n\u001b[1;32m    356\u001b[0m         \u001b[0mNDFrame\u001b[0m\u001b[0;34m.\u001b[0m\u001b[0m__init__\u001b[0m\u001b[0;34m(\u001b[0m\u001b[0mself\u001b[0m\u001b[0;34m,\u001b[0m \u001b[0mmgr\u001b[0m\u001b[0;34m,\u001b[0m \u001b[0mfastpath\u001b[0m\u001b[0;34m=\u001b[0m\u001b[0;32mTrue\u001b[0m\u001b[0;34m)\u001b[0m\u001b[0;34m\u001b[0m\u001b[0m\n",
      "\u001b[0;31mValueError\u001b[0m: DataFrame constructor not properly called!"
     ]
    }
   ],
   "source": [
    "data = fluxo[1].keys()\n",
    "col = fluxo[1].values()\n",
    "df = DataFrame(data, col)"
   ]
  },
  {
   "cell_type": "code",
   "execution_count": 41,
   "metadata": {},
   "outputs": [
    {
     "ename": "ValueError",
     "evalue": "DataFrame constructor not properly called!",
     "output_type": "error",
     "traceback": [
      "\u001b[0;31m---------------------------------------------------------------------------\u001b[0m",
      "\u001b[0;31mValueError\u001b[0m                                Traceback (most recent call last)",
      "\u001b[0;32m<ipython-input-41-09efc2a37867>\u001b[0m in \u001b[0;36m<module>\u001b[0;34m()\u001b[0m\n\u001b[0;32m----> 1\u001b[0;31m \u001b[0mDataFrame\u001b[0m\u001b[0;34m(\u001b[0m\u001b[0mfluxo\u001b[0m\u001b[0;34m[\u001b[0m\u001b[0;36m1\u001b[0m\u001b[0;34m]\u001b[0m\u001b[0;34m.\u001b[0m\u001b[0mkeys\u001b[0m\u001b[0;34m(\u001b[0m\u001b[0;34m)\u001b[0m\u001b[0;34m,\u001b[0m \u001b[0mfluxo\u001b[0m\u001b[0;34m[\u001b[0m\u001b[0;36m1\u001b[0m\u001b[0;34m]\u001b[0m\u001b[0;34m.\u001b[0m\u001b[0mvalues\u001b[0m\u001b[0;34m(\u001b[0m\u001b[0;34m)\u001b[0m\u001b[0;34m)\u001b[0m\u001b[0;34m\u001b[0m\u001b[0m\n\u001b[0m",
      "\u001b[0;32m~/anaconda3/envs/conda_env/lib/python3.6/site-packages/pandas/core/frame.py\u001b[0m in \u001b[0;36m__init__\u001b[0;34m(self, data, index, columns, dtype, copy)\u001b[0m\n\u001b[1;32m    352\u001b[0m                                          copy=False)\n\u001b[1;32m    353\u001b[0m             \u001b[0;32melse\u001b[0m\u001b[0;34m:\u001b[0m\u001b[0;34m\u001b[0m\u001b[0m\n\u001b[0;32m--> 354\u001b[0;31m                 \u001b[0;32mraise\u001b[0m \u001b[0mValueError\u001b[0m\u001b[0;34m(\u001b[0m\u001b[0;34m'DataFrame constructor not properly called!'\u001b[0m\u001b[0;34m)\u001b[0m\u001b[0;34m\u001b[0m\u001b[0m\n\u001b[0m\u001b[1;32m    355\u001b[0m \u001b[0;34m\u001b[0m\u001b[0m\n\u001b[1;32m    356\u001b[0m         \u001b[0mNDFrame\u001b[0m\u001b[0;34m.\u001b[0m\u001b[0m__init__\u001b[0m\u001b[0;34m(\u001b[0m\u001b[0mself\u001b[0m\u001b[0;34m,\u001b[0m \u001b[0mmgr\u001b[0m\u001b[0;34m,\u001b[0m \u001b[0mfastpath\u001b[0m\u001b[0;34m=\u001b[0m\u001b[0;32mTrue\u001b[0m\u001b[0;34m)\u001b[0m\u001b[0;34m\u001b[0m\u001b[0m\n",
      "\u001b[0;31mValueError\u001b[0m: DataFrame constructor not properly called!"
     ]
    }
   ],
   "source": [
    "DataFrame(fluxo[1].keys(), fluxo[1].values())"
   ]
  },
  {
   "cell_type": "code",
   "execution_count": 51,
   "metadata": {
    "collapsed": true
   },
   "outputs": [],
   "source": [
    "from pandas import DataFrame"
   ]
  },
  {
   "cell_type": "code",
   "execution_count": 55,
   "metadata": {},
   "outputs": [
    {
     "ename": "IndexError",
     "evalue": "list index out of range",
     "output_type": "error",
     "traceback": [
      "\u001b[0;31m---------------------------------------------------------------------------\u001b[0m",
      "\u001b[0;31mIndexError\u001b[0m                                Traceback (most recent call last)",
      "\u001b[0;32m<ipython-input-55-3ea39eba6bab>\u001b[0m in \u001b[0;36m<module>\u001b[0;34m()\u001b[0m\n\u001b[1;32m      1\u001b[0m \u001b[0mi\u001b[0m \u001b[0;34m=\u001b[0m \u001b[0;36m0\u001b[0m\u001b[0;34m\u001b[0m\u001b[0m\n\u001b[1;32m      2\u001b[0m \u001b[0;32mwhile\u001b[0m \u001b[0mi\u001b[0m \u001b[0;34m<\u001b[0m\u001b[0;36m13\u001b[0m\u001b[0;34m:\u001b[0m\u001b[0;34m\u001b[0m\u001b[0m\n\u001b[0;32m----> 3\u001b[0;31m     \u001b[0mdata\u001b[0m \u001b[0;34m=\u001b[0m \u001b[0mfluxo\u001b[0m\u001b[0;34m[\u001b[0m\u001b[0mi\u001b[0m\u001b[0;34m]\u001b[0m\u001b[0;34m\u001b[0m\u001b[0m\n\u001b[0m\u001b[1;32m      4\u001b[0m \u001b[0;34m\u001b[0m\u001b[0m\n\u001b[1;32m      5\u001b[0m     \u001b[0mi\u001b[0m \u001b[0;34m+=\u001b[0m\u001b[0;36m1\u001b[0m\u001b[0;34m\u001b[0m\u001b[0m\n",
      "\u001b[0;31mIndexError\u001b[0m: list index out of range"
     ]
    }
   ],
   "source": [
    "i = 0\n",
    "data = []\n",
    "while i <13:\n",
    "    data[fluxo[i]] = fluxo[i]\n",
    "\n",
    "    i +=1\n",
    "    "
   ]
  },
  {
   "cell_type": "code",
   "execution_count": 56,
   "metadata": {},
   "outputs": [
    {
     "data": {
      "text/plain": [
       "{'Anunciado': 'nao',\n",
       " 'Produto': 'Higenize concentrado Decreína',\n",
       " 'Tarifa mp': '',\n",
       " 'Taxa lucro sem anuncio ': '',\n",
       " 'Valor de custo': '22,40',\n",
       " 'Valor de venda': '22,40',\n",
       " 'data anuncio': '',\n",
       " 'data expiração': ''}"
      ]
     },
     "execution_count": 56,
     "metadata": {},
     "output_type": "execute_result"
    }
   ],
   "source": [
    "data"
   ]
  },
  {
   "cell_type": "code",
   "execution_count": 57,
   "metadata": {},
   "outputs": [
    {
     "data": {
      "text/plain": [
       "list"
      ]
     },
     "execution_count": 57,
     "metadata": {},
     "output_type": "execute_result"
    }
   ],
   "source": [
    "type(fluxo)"
   ]
  },
  {
   "cell_type": "code",
   "execution_count": 58,
   "metadata": {},
   "outputs": [
    {
     "data": {
      "text/plain": [
       "[{'Anunciado': 'sim',\n",
       "  'Produto': 'Pomada Decreína Intense',\n",
       "  'Tarifa mp': 4.12,\n",
       "  'Taxa lucro sem anuncio ': '',\n",
       "  'Valor de custo': '21,00',\n",
       "  'Valor de venda': '38,00',\n",
       "  'data anuncio': '30/03/2017',\n",
       "  'data expiração': '28/05/2017'},\n",
       " {'Anunciado': 'sim',\n",
       "  'Produto': 'Creme Decreína Esfoliante',\n",
       "  'Tarifa mp': '',\n",
       "  'Taxa lucro sem anuncio ': 'R$ 15,65',\n",
       "  'Valor de custo': '27,70',\n",
       "  'Valor de venda': '45,00',\n",
       "  'data anuncio': '31/03/2017',\n",
       "  'data expiração': '29/05/2017'},\n",
       " {'Anunciado': 'sim',\n",
       "  'Produto': 'Spray  Anti-Micótico Decreína\\n',\n",
       "  'Tarifa mp': '',\n",
       "  'Taxa lucro sem anuncio ': 'R$ 22,25',\n",
       "  'Valor de custo': '30,00',\n",
       "  'Valor de venda': '55,00',\n",
       "  'data anuncio': '31/03',\n",
       "  'data expiração': '29/05/2017'},\n",
       " {'Anunciado': 'sim',\n",
       "  'Produto': 'Creme Relaxante Decreína',\n",
       "  'Tarifa mp': '',\n",
       "  'Taxa lucro sem anuncio ': 'R$ 15,05',\n",
       "  'Valor de custo': '27,70',\n",
       "  'Valor de venda': '45,00',\n",
       "  'data anuncio': '31/03/2017',\n",
       "  'data expiração': '29/05/2017'},\n",
       " {'Anunciado': 'sim',\n",
       "  'Produto': 'Óleo de massagem Decreína',\n",
       "  'Tarifa mp': '',\n",
       "  'Taxa lucro sem anuncio ': 'R$ 12,20',\n",
       "  'Valor de custo': '23,90',\n",
       "  'Valor de venda': '38,00',\n",
       "  'data anuncio': '31/03/2017',\n",
       "  'data expiração': '29/05/2017'},\n",
       " {'Anunciado': 'sim',\n",
       "  'Produto': 'CREME QUERATOLÍTICO Decreína',\n",
       "  'Tarifa mp': '',\n",
       "  'Taxa lucro sem anuncio ': 'R$ 12,20',\n",
       "  'Valor de custo': '23,90',\n",
       "  'Valor de venda': '40,00',\n",
       "  'data anuncio': '',\n",
       "  'data expiração': ''},\n",
       " {'Anunciado': 'não',\n",
       "  'Produto': 'Emoliente  Decreína',\n",
       "  'Tarifa mp': '',\n",
       "  'Taxa lucro sem anuncio ': '- ',\n",
       "  'Valor de custo': '22,40',\n",
       "  'Valor de venda': '22,40',\n",
       "  'data anuncio': '',\n",
       "  'data expiração': ''},\n",
       " {'Anunciado': 'sim',\n",
       "  'Produto': 'Fitocreme Decreína',\n",
       "  'Tarifa mp': '',\n",
       "  'Taxa lucro sem anuncio ': 'R$ 12,20',\n",
       "  'Valor de custo': '23,90',\n",
       "  'Valor de venda': '38,00',\n",
       "  'data anuncio': '',\n",
       "  'data expiração': ''},\n",
       " {'Anunciado': 'não',\n",
       "  'Produto': 'Decreína Fresh Feet(odorizante',\n",
       "  'Tarifa mp': '',\n",
       "  'Taxa lucro sem anuncio ': 'R$ 12,20',\n",
       "  'Valor de custo': '23,90',\n",
       "  'Valor de venda': '38,00',\n",
       "  'data anuncio': '',\n",
       "  'data expiração': ''},\n",
       " {'Anunciado': 'sim',\n",
       "  'Produto': 'Creme Hidratante Decreína',\n",
       "  'Tarifa mp': '',\n",
       "  'Taxa lucro sem anuncio ': 'R$ 15,05',\n",
       "  'Valor de custo': '27,70',\n",
       "  'Valor de venda': '45,00',\n",
       "  'data anuncio': '',\n",
       "  'data expiração': ''},\n",
       " {'Anunciado': 'nao',\n",
       "  'Produto': 'Higenize concentrado Decreína',\n",
       "  'Tarifa mp': '',\n",
       "  'Taxa lucro sem anuncio ': '',\n",
       "  'Valor de custo': '22,40',\n",
       "  'Valor de venda': '22,40',\n",
       "  'data anuncio': '',\n",
       "  'data expiração': ''}]"
      ]
     },
     "execution_count": 58,
     "metadata": {},
     "output_type": "execute_result"
    }
   ],
   "source": [
    "fluxo"
   ]
  },
  {
   "cell_type": "code",
   "execution_count": 60,
   "metadata": {
    "collapsed": true
   },
   "outputs": [],
   "source": [
    "from pandas import Series\n",
    "caixa = Series(fluxo)"
   ]
  },
  {
   "cell_type": "code",
   "execution_count": 75,
   "metadata": {},
   "outputs": [
    {
     "data": {
      "text/plain": [
       "{'Anunciado': 'sim',\n",
       " 'Produto': 'Creme Decreína Esfoliante',\n",
       " 'Tarifa mp': '',\n",
       " 'Taxa lucro sem anuncio ': 'R$ 15,65',\n",
       " 'Valor de custo': '27,70',\n",
       " 'Valor de venda': '45,00',\n",
       " 'data anuncio': '31/03/2017',\n",
       " 'data expiração': '29/05/2017'}"
      ]
     },
     "execution_count": 75,
     "metadata": {},
     "output_type": "execute_result"
    }
   ],
   "source": [
    "caixa[1]"
   ]
  },
  {
   "cell_type": "code",
   "execution_count": 67,
   "metadata": {
    "collapsed": true
   },
   "outputs": [],
   "source": [
    "from pandas import DataFrame"
   ]
  },
  {
   "cell_type": "code",
   "execution_count": 69,
   "metadata": {},
   "outputs": [
    {
     "data": {
      "text/plain": [
       "dict"
      ]
     },
     "execution_count": 69,
     "metadata": {},
     "output_type": "execute_result"
    }
   ],
   "source": [
    " data = fluxo[1]"
   ]
  },
  {
   "cell_type": "code",
   "execution_count": 71,
   "metadata": {},
   "outputs": [
    {
     "data": {
      "text/plain": [
       "dict"
      ]
     },
     "execution_count": 71,
     "metadata": {},
     "output_type": "execute_result"
    }
   ],
   "source": [
    "type(data)"
   ]
  },
  {
   "cell_type": "code",
   "execution_count": null,
   "metadata": {
    "collapsed": true
   },
   "outputs": [],
   "source": []
  }
 ],
 "metadata": {
  "kernelspec": {
   "display_name": "Python 3",
   "language": "python",
   "name": "python3"
  },
  "language_info": {
   "codemirror_mode": {
    "name": "ipython",
    "version": 3
   },
   "file_extension": ".py",
   "mimetype": "text/x-python",
   "name": "python",
   "nbconvert_exporter": "python",
   "pygments_lexer": "ipython3",
   "version": "3.6.2"
  }
 },
 "nbformat": 4,
 "nbformat_minor": 2
}
